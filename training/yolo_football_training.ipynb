{
 "cells": [
  {
   "cell_type": "code",
   "execution_count": 3,
   "metadata": {},
   "outputs": [
    {
     "name": "stdout",
     "output_type": "stream",
     "text": [
      "Requirement already satisfied: ultralytics in z:\\football_analysis\\.venv\\lib\\site-packages (8.3.75)\n",
      "Requirement already satisfied: numpy<=2.1.1,>=1.23.0 in z:\\football_analysis\\.venv\\lib\\site-packages (from ultralytics) (2.1.1)\n",
      "Requirement already satisfied: matplotlib>=3.3.0 in z:\\football_analysis\\.venv\\lib\\site-packages (from ultralytics) (3.10.0)\n",
      "Requirement already satisfied: opencv-python>=4.6.0 in z:\\football_analysis\\.venv\\lib\\site-packages (from ultralytics) (4.11.0.86)\n",
      "Requirement already satisfied: pillow>=7.1.2 in z:\\football_analysis\\.venv\\lib\\site-packages (from ultralytics) (11.1.0)\n",
      "Requirement already satisfied: pyyaml>=5.3.1 in z:\\football_analysis\\.venv\\lib\\site-packages (from ultralytics) (6.0.2)\n",
      "Requirement already satisfied: requests>=2.23.0 in z:\\football_analysis\\.venv\\lib\\site-packages (from ultralytics) (2.32.3)\n",
      "Requirement already satisfied: scipy>=1.4.1 in z:\\football_analysis\\.venv\\lib\\site-packages (from ultralytics) (1.15.1)\n",
      "Requirement already satisfied: torch>=1.8.0 in z:\\football_analysis\\.venv\\lib\\site-packages (from ultralytics) (2.6.0)\n",
      "Requirement already satisfied: torchvision>=0.9.0 in z:\\football_analysis\\.venv\\lib\\site-packages (from ultralytics) (0.21.0)\n",
      "Requirement already satisfied: tqdm>=4.64.0 in z:\\football_analysis\\.venv\\lib\\site-packages (from ultralytics) (4.67.1)\n",
      "Requirement already satisfied: psutil in z:\\football_analysis\\.venv\\lib\\site-packages (from ultralytics) (7.0.0)\n",
      "Requirement already satisfied: py-cpuinfo in z:\\football_analysis\\.venv\\lib\\site-packages (from ultralytics) (9.0.0)\n",
      "Requirement already satisfied: pandas>=1.1.4 in z:\\football_analysis\\.venv\\lib\\site-packages (from ultralytics) (2.2.3)\n",
      "Requirement already satisfied: seaborn>=0.11.0 in z:\\football_analysis\\.venv\\lib\\site-packages (from ultralytics) (0.13.2)\n",
      "Requirement already satisfied: ultralytics-thop>=2.0.0 in z:\\football_analysis\\.venv\\lib\\site-packages (from ultralytics) (2.0.14)\n",
      "Requirement already satisfied: contourpy>=1.0.1 in z:\\football_analysis\\.venv\\lib\\site-packages (from matplotlib>=3.3.0->ultralytics) (1.3.1)\n",
      "Requirement already satisfied: cycler>=0.10 in z:\\football_analysis\\.venv\\lib\\site-packages (from matplotlib>=3.3.0->ultralytics) (0.12.1)\n",
      "Requirement already satisfied: fonttools>=4.22.0 in z:\\football_analysis\\.venv\\lib\\site-packages (from matplotlib>=3.3.0->ultralytics) (4.56.0)\n",
      "Requirement already satisfied: kiwisolver>=1.3.1 in z:\\football_analysis\\.venv\\lib\\site-packages (from matplotlib>=3.3.0->ultralytics) (1.4.8)\n",
      "Requirement already satisfied: packaging>=20.0 in z:\\football_analysis\\.venv\\lib\\site-packages (from matplotlib>=3.3.0->ultralytics) (24.2)\n",
      "Requirement already satisfied: pyparsing>=2.3.1 in z:\\football_analysis\\.venv\\lib\\site-packages (from matplotlib>=3.3.0->ultralytics) (3.2.1)\n",
      "Requirement already satisfied: python-dateutil>=2.7 in z:\\football_analysis\\.venv\\lib\\site-packages (from matplotlib>=3.3.0->ultralytics) (2.9.0.post0)\n",
      "Requirement already satisfied: pytz>=2020.1 in z:\\football_analysis\\.venv\\lib\\site-packages (from pandas>=1.1.4->ultralytics) (2025.1)\n",
      "Requirement already satisfied: tzdata>=2022.7 in z:\\football_analysis\\.venv\\lib\\site-packages (from pandas>=1.1.4->ultralytics) (2025.1)\n",
      "Requirement already satisfied: charset-normalizer<4,>=2 in z:\\football_analysis\\.venv\\lib\\site-packages (from requests>=2.23.0->ultralytics) (3.4.1)\n",
      "Requirement already satisfied: idna<4,>=2.5 in z:\\football_analysis\\.venv\\lib\\site-packages (from requests>=2.23.0->ultralytics) (3.10)\n",
      "Requirement already satisfied: urllib3<3,>=1.21.1 in z:\\football_analysis\\.venv\\lib\\site-packages (from requests>=2.23.0->ultralytics) (2.3.0)\n",
      "Requirement already satisfied: certifi>=2017.4.17 in z:\\football_analysis\\.venv\\lib\\site-packages (from requests>=2.23.0->ultralytics) (2025.1.31)\n",
      "Requirement already satisfied: filelock in z:\\football_analysis\\.venv\\lib\\site-packages (from torch>=1.8.0->ultralytics) (3.17.0)\n",
      "Requirement already satisfied: typing-extensions>=4.10.0 in z:\\football_analysis\\.venv\\lib\\site-packages (from torch>=1.8.0->ultralytics) (4.12.2)\n",
      "Requirement already satisfied: networkx in z:\\football_analysis\\.venv\\lib\\site-packages (from torch>=1.8.0->ultralytics) (3.4.2)\n",
      "Requirement already satisfied: jinja2 in z:\\football_analysis\\.venv\\lib\\site-packages (from torch>=1.8.0->ultralytics) (3.1.5)\n",
      "Requirement already satisfied: fsspec in z:\\football_analysis\\.venv\\lib\\site-packages (from torch>=1.8.0->ultralytics) (2025.2.0)\n",
      "Requirement already satisfied: sympy==1.13.1 in z:\\football_analysis\\.venv\\lib\\site-packages (from torch>=1.8.0->ultralytics) (1.13.1)\n",
      "Requirement already satisfied: mpmath<1.4,>=1.1.0 in z:\\football_analysis\\.venv\\lib\\site-packages (from sympy==1.13.1->torch>=1.8.0->ultralytics) (1.3.0)\n",
      "Requirement already satisfied: colorama in z:\\football_analysis\\.venv\\lib\\site-packages (from tqdm>=4.64.0->ultralytics) (0.4.6)\n",
      "Requirement already satisfied: six>=1.5 in z:\\football_analysis\\.venv\\lib\\site-packages (from python-dateutil>=2.7->matplotlib>=3.3.0->ultralytics) (1.17.0)\n",
      "Requirement already satisfied: MarkupSafe>=2.0 in z:\\football_analysis\\.venv\\lib\\site-packages (from jinja2->torch>=1.8.0->ultralytics) (3.0.2)\n"
     ]
    },
    {
     "name": "stderr",
     "output_type": "stream",
     "text": [
      "\n",
      "[notice] A new release of pip is available: 23.1.2 -> 25.0.1\n",
      "[notice] To update, run: python.exe -m pip install --upgrade pip\n"
     ]
    },
    {
     "name": "stdout",
     "output_type": "stream",
     "text": [
      "Collecting roboflow\n",
      "  Downloading roboflow-1.1.60-py3-none-any.whl (84 kB)\n",
      "                                              0.0/84.5 kB ? eta -:--:--\n",
      "     ---------------------------------------- 84.5/84.5 kB 5.0 MB/s eta 0:00:00\n",
      "Requirement already satisfied: certifi in z:\\football_analysis\\.venv\\lib\\site-packages (from roboflow) (2025.1.31)\n",
      "Collecting idna==3.7 (from roboflow)\n",
      "  Downloading idna-3.7-py3-none-any.whl (66 kB)\n",
      "                                              0.0/66.8 kB ? eta -:--:--\n",
      "     ---------------------------------------- 66.8/66.8 kB ? eta 0:00:00\n",
      "Requirement already satisfied: cycler in z:\\football_analysis\\.venv\\lib\\site-packages (from roboflow) (0.12.1)\n",
      "Requirement already satisfied: kiwisolver>=1.3.1 in z:\\football_analysis\\.venv\\lib\\site-packages (from roboflow) (1.4.8)\n",
      "Requirement already satisfied: matplotlib in z:\\football_analysis\\.venv\\lib\\site-packages (from roboflow) (3.10.0)\n",
      "Requirement already satisfied: numpy>=1.18.5 in z:\\football_analysis\\.venv\\lib\\site-packages (from roboflow) (2.1.1)\n",
      "Collecting opencv-python-headless==4.10.0.84 (from roboflow)\n",
      "  Downloading opencv_python_headless-4.10.0.84-cp37-abi3-win_amd64.whl (38.8 MB)\n",
      "                                              0.0/38.8 MB ? eta -:--:--\n",
      "     --                                       2.9/38.8 MB 61.4 MB/s eta 0:00:01\n",
      "     ---                                      3.8/38.8 MB 40.1 MB/s eta 0:00:01\n",
      "     ----                                     4.6/38.8 MB 33.1 MB/s eta 0:00:02\n",
      "     -----                                    4.9/38.8 MB 31.4 MB/s eta 0:00:02\n",
      "     -----                                    4.9/38.8 MB 31.4 MB/s eta 0:00:02\n",
      "     -------                                  7.3/38.8 MB 25.9 MB/s eta 0:00:02\n",
      "     --------                                 8.2/38.8 MB 25.0 MB/s eta 0:00:02\n",
      "     ---------                                9.1/38.8 MB 24.2 MB/s eta 0:00:02\n",
      "     ----------                              10.0/38.8 MB 23.7 MB/s eta 0:00:02\n",
      "     ----------                              10.9/38.8 MB 22.5 MB/s eta 0:00:02\n",
      "     -----------                             11.8/38.8 MB 21.1 MB/s eta 0:00:02\n",
      "     ------------                            12.7/38.8 MB 19.3 MB/s eta 0:00:02\n",
      "     -------------                           13.6/38.8 MB 19.8 MB/s eta 0:00:02\n",
      "     --------------                          14.5/38.8 MB 19.3 MB/s eta 0:00:02\n",
      "     ---------------                         15.4/38.8 MB 24.2 MB/s eta 0:00:01\n",
      "     ----------------                        16.3/38.8 MB 21.8 MB/s eta 0:00:02\n",
      "     -----------------                       17.2/38.8 MB 19.8 MB/s eta 0:00:02\n",
      "     ------------------                      18.0/38.8 MB 19.8 MB/s eta 0:00:02\n",
      "     -------------------                     18.9/38.8 MB 19.3 MB/s eta 0:00:02\n",
      "     -------------------                     19.8/38.8 MB 19.2 MB/s eta 0:00:01\n",
      "     --------------------                    20.7/38.8 MB 19.2 MB/s eta 0:00:01\n",
      "     ---------------------                   21.6/38.8 MB 19.3 MB/s eta 0:00:01\n",
      "     ----------------------                  22.5/38.8 MB 19.3 MB/s eta 0:00:01\n",
      "     -----------------------                 23.4/38.8 MB 19.3 MB/s eta 0:00:01\n",
      "     ------------------------                24.3/38.8 MB 19.3 MB/s eta 0:00:01\n",
      "     -------------------------               25.2/38.8 MB 19.3 MB/s eta 0:00:01\n",
      "     --------------------------              26.0/38.8 MB 19.9 MB/s eta 0:00:01\n",
      "     ---------------------------             26.9/38.8 MB 19.8 MB/s eta 0:00:01\n",
      "     ---------------------------             27.8/38.8 MB 19.8 MB/s eta 0:00:01\n",
      "     ----------------------------            28.7/38.8 MB 19.3 MB/s eta 0:00:01\n",
      "     -----------------------------           29.6/38.8 MB 19.8 MB/s eta 0:00:01\n",
      "     ------------------------------          30.4/38.8 MB 19.2 MB/s eta 0:00:01\n",
      "     -------------------------------         31.3/38.8 MB 19.3 MB/s eta 0:00:01\n",
      "     --------------------------------        32.2/38.8 MB 19.3 MB/s eta 0:00:01\n",
      "     ---------------------------------       33.1/38.8 MB 19.3 MB/s eta 0:00:01\n",
      "     ----------------------------------      34.0/38.8 MB 19.3 MB/s eta 0:00:01\n",
      "     -----------------------------------     34.9/38.8 MB 19.3 MB/s eta 0:00:01\n",
      "     -----------------------------------     35.7/38.8 MB 19.9 MB/s eta 0:00:01\n",
      "     ------------------------------------    36.6/38.8 MB 19.8 MB/s eta 0:00:01\n",
      "     -------------------------------------   37.5/38.8 MB 19.3 MB/s eta 0:00:01\n",
      "     --------------------------------------  38.3/38.8 MB 19.3 MB/s eta 0:00:01\n",
      "     --------------------------------------  38.7/38.8 MB 19.9 MB/s eta 0:00:01\n",
      "     --------------------------------------  38.7/38.8 MB 19.9 MB/s eta 0:00:01\n",
      "     --------------------------------------- 38.8/38.8 MB 16.4 MB/s eta 0:00:00\n",
      "Requirement already satisfied: Pillow>=7.1.2 in z:\\football_analysis\\.venv\\lib\\site-packages (from roboflow) (11.1.0)\n",
      "Collecting pillow-heif>=0.18.0 (from roboflow)\n",
      "  Downloading pillow_heif-0.22.0-cp311-cp311-win_amd64.whl (8.6 MB)\n",
      "                                              0.0/8.6 MB ? eta -:--:--\n",
      "     ------------                             2.7/8.6 MB 58.8 MB/s eta 0:00:01\n",
      "     ----------------                         3.6/8.6 MB 38.6 MB/s eta 0:00:01\n",
      "     --------------------                     4.5/8.6 MB 31.9 MB/s eta 0:00:01\n",
      "     -------------------------                5.4/8.6 MB 28.7 MB/s eta 0:00:01\n",
      "     -----------------------------            6.3/8.6 MB 28.7 MB/s eta 0:00:01\n",
      "     ---------------------------------        7.1/8.6 MB 26.9 MB/s eta 0:00:01\n",
      "     -------------------------------------    8.1/8.6 MB 25.8 MB/s eta 0:00:01\n",
      "     ---------------------------------------  8.6/8.6 MB 24.9 MB/s eta 0:00:01\n",
      "     ---------------------------------------- 8.6/8.6 MB 22.8 MB/s eta 0:00:00\n",
      "Requirement already satisfied: python-dateutil in z:\\football_analysis\\.venv\\lib\\site-packages (from roboflow) (2.9.0.post0)\n",
      "Collecting python-dotenv (from roboflow)\n",
      "  Downloading python_dotenv-1.1.0-py3-none-any.whl (20 kB)\n",
      "Requirement already satisfied: requests in z:\\football_analysis\\.venv\\lib\\site-packages (from roboflow) (2.32.3)\n",
      "Requirement already satisfied: six in z:\\football_analysis\\.venv\\lib\\site-packages (from roboflow) (1.17.0)\n",
      "Requirement already satisfied: urllib3>=1.26.6 in z:\\football_analysis\\.venv\\lib\\site-packages (from roboflow) (2.3.0)\n",
      "Requirement already satisfied: tqdm>=4.41.0 in z:\\football_analysis\\.venv\\lib\\site-packages (from roboflow) (4.67.1)\n",
      "Requirement already satisfied: PyYAML>=5.3.1 in z:\\football_analysis\\.venv\\lib\\site-packages (from roboflow) (6.0.2)\n",
      "Collecting requests-toolbelt (from roboflow)\n",
      "  Downloading requests_toolbelt-1.0.0-py2.py3-none-any.whl (54 kB)\n",
      "                                              0.0/54.5 kB ? eta -:--:--\n",
      "     ---------------------------------------- 54.5/54.5 kB ? eta 0:00:00\n",
      "Collecting filetype (from roboflow)\n",
      "  Downloading filetype-1.2.0-py2.py3-none-any.whl (19 kB)\n",
      "Requirement already satisfied: colorama in z:\\football_analysis\\.venv\\lib\\site-packages (from tqdm>=4.41.0->roboflow) (0.4.6)\n",
      "Requirement already satisfied: contourpy>=1.0.1 in z:\\football_analysis\\.venv\\lib\\site-packages (from matplotlib->roboflow) (1.3.1)\n",
      "Requirement already satisfied: fonttools>=4.22.0 in z:\\football_analysis\\.venv\\lib\\site-packages (from matplotlib->roboflow) (4.56.0)\n",
      "Requirement already satisfied: packaging>=20.0 in z:\\football_analysis\\.venv\\lib\\site-packages (from matplotlib->roboflow) (24.2)\n",
      "Requirement already satisfied: pyparsing>=2.3.1 in z:\\football_analysis\\.venv\\lib\\site-packages (from matplotlib->roboflow) (3.2.1)\n",
      "Requirement already satisfied: charset-normalizer<4,>=2 in z:\\football_analysis\\.venv\\lib\\site-packages (from requests->roboflow) (3.4.1)\n",
      "Installing collected packages: filetype, python-dotenv, pillow-heif, opencv-python-headless, idna, requests-toolbelt, roboflow\n",
      "  Attempting uninstall: idna\n",
      "    Found existing installation: idna 3.10\n",
      "    Uninstalling idna-3.10:\n",
      "      Successfully uninstalled idna-3.10\n",
      "Successfully installed filetype-1.2.0 idna-3.7 opencv-python-headless-4.10.0.84 pillow-heif-0.22.0 python-dotenv-1.1.0 requests-toolbelt-1.0.0 roboflow-1.1.60\n"
     ]
    },
    {
     "name": "stderr",
     "output_type": "stream",
     "text": [
      "\n",
      "[notice] A new release of pip is available: 23.1.2 -> 25.0.1\n",
      "[notice] To update, run: python.exe -m pip install --upgrade pip\n"
     ]
    }
   ],
   "source": [
    "!pip install ultralytics\n",
    "!pip install roboflow"
   ]
  },
  {
   "cell_type": "markdown",
   "metadata": {},
   "source": [
    "Downloading Dataset"
   ]
  },
  {
   "cell_type": "code",
   "execution_count": 4,
   "metadata": {},
   "outputs": [
    {
     "name": "stdout",
     "output_type": "stream",
     "text": [
      "loading Roboflow workspace...\n",
      "loading Roboflow project...\n"
     ]
    },
    {
     "name": "stderr",
     "output_type": "stream",
     "text": [
      "Downloading Dataset Version Zip in football-players-detection-1 to yolov5pytorch:: 100%|██████████| 148663/148663 [00:13<00:00, 11010.28it/s]"
     ]
    },
    {
     "name": "stdout",
     "output_type": "stream",
     "text": [
      "\n"
     ]
    },
    {
     "name": "stderr",
     "output_type": "stream",
     "text": [
      "\n",
      "Extracting Dataset Version Zip to football-players-detection-1 in yolov5pytorch:: 100%|██████████| 1338/1338 [00:01<00:00, 1133.80it/s]\n"
     ]
    }
   ],
   "source": [
    "from roboflow import Roboflow\n",
    "rf = Roboflow(api_key=\"He0Xphd8Poe0uXhaeKCb\")\n",
    "project = rf.workspace(\"roboflow-jvuqo\").project(\"football-players-detection-3zvbc\")\n",
    "version = project.version(1)\n",
    "dataset = version.download(\"yolov5\")\n",
    "                "
   ]
  },
  {
   "cell_type": "code",
   "execution_count": 5,
   "metadata": {},
   "outputs": [
    {
     "data": {
      "text/plain": [
       "'z:\\\\Football_Analysis\\\\training\\\\football-players-detection-1'"
      ]
     },
     "execution_count": 5,
     "metadata": {},
     "output_type": "execute_result"
    }
   ],
   "source": [
    "dataset.location"
   ]
  },
  {
   "cell_type": "code",
   "execution_count": 7,
   "metadata": {},
   "outputs": [
    {
     "data": {
      "text/plain": [
       "'football-players-detection-1/football-players-detection-1/valid'"
      ]
     },
     "execution_count": 7,
     "metadata": {},
     "output_type": "execute_result"
    }
   ],
   "source": [
    "import shutil\n",
    "\n",
    "shutil.move('football-players-detection-1/train',\n",
    "            'football-players-detection-1/football-players-detection-1/train'\n",
    "           )\n",
    "\n",
    "shutil.move('football-players-detection-1/test',\n",
    "            'football-players-detection-1/football-players-detection-1/test'\n",
    "           )\n",
    "\n",
    "shutil.move('football-players-detection-1/valid',\n",
    "            'football-players-detection-1/football-players-detection-1/valid'\n",
    "           )"
   ]
  },
  {
   "cell_type": "markdown",
   "metadata": {},
   "source": [
    "# Training"
   ]
  },
  {
   "cell_type": "code",
   "execution_count": null,
   "metadata": {},
   "outputs": [],
   "source": [
    "!yolo task=detect mode=train model=yolov5x.pt data={dataset.location}/data.yaml epochs=100 imgsz=640"
   ]
  }
 ],
 "metadata": {
  "kernelspec": {
   "display_name": ".venv",
   "language": "python",
   "name": "python3"
  },
  "language_info": {
   "codemirror_mode": {
    "name": "ipython",
    "version": 3
   },
   "file_extension": ".py",
   "mimetype": "text/x-python",
   "name": "python",
   "nbconvert_exporter": "python",
   "pygments_lexer": "ipython3",
   "version": "3.11.4"
  }
 },
 "nbformat": 4,
 "nbformat_minor": 2
}
